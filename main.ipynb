{
 "cells": [
  {
   "cell_type": "code",
   "execution_count": 1,
   "metadata": {},
   "outputs": [],
   "source": [
    "import h5py\n",
    "import numpy as np\n",
    "import os\n",
    "import SimpleITK as itk"
   ]
  },
  {
   "cell_type": "markdown",
   "metadata": {},
   "source": [
    "## Convert RAW/MHD files to HDF5"
   ]
  },
  {
   "cell_type": "code",
   "execution_count": 3,
   "metadata": {},
   "outputs": [],
   "source": [
    "'''\n",
    "This function reads a '.mhd' file using SimpleITK and returns the image array, origin and spacing of the image.\n",
    "The '.mhd' file needs to be in the same directory as the corresponding '.raw' file.\n",
    "Note that the array has the x and z coordinate flipped, so you want to acces array[z,y,x].\n",
    "'''\n",
    "def load_itk(filename):\n",
    "    # Reads the image using SimpleITK\n",
    "    itkimage = itk.ReadImage(filename)\n",
    "\n",
    "    # Convert the image to a  numpy array first and then shuffle the dimensions to get axis in the order z,y,x\n",
    "    array = itk.GetArrayFromImage(itkimage)\n",
    "    # NOTE: Unclear yet if transpose is needed as UNet seems to process (z,y,x) coordinates. - ck\n",
    "    array = np.transpose(array, (2, 1, 0))  # Change the order of dimensions\n",
    "\n",
    "    # Read the origin of the ct_scan, will be used to convert the coordinates from world to voxel and vice versa.\n",
    "    origin = np.array(list(reversed(itkimage.GetOrigin())))\n",
    "\n",
    "    # Read the spacing along each dimension\n",
    "    spacing = np.array(list(reversed(itkimage.GetSpacing())))\n",
    "    return array, origin, spacing"
   ]
  },
  {
   "cell_type": "code",
   "execution_count": 10,
   "metadata": {},
   "outputs": [
    {
     "name": "stdout",
     "output_type": "stream",
     "text": [
      "Data has been successfully converted to C:\\Users\\Chris\\Documents\\Datasets\\c_elegans\\train\\C18G1_2L1_1.h5.\n",
      "Data has been successfully converted to C:\\Users\\Chris\\Documents\\Datasets\\c_elegans\\train\\cnd1threeL1_1213061.h5.\n",
      "Data has been successfully converted to C:\\Users\\Chris\\Documents\\Datasets\\c_elegans\\train\\cnd1threeL1_1228061.h5.\n",
      "Data has been successfully converted to C:\\Users\\Chris\\Documents\\Datasets\\c_elegans\\train\\cnd1threeL1_1229061.h5.\n",
      "Data has been successfully converted to C:\\Users\\Chris\\Documents\\Datasets\\c_elegans\\train\\cnd1threeL1_1229062.h5.\n",
      "Data has been successfully converted to C:\\Users\\Chris\\Documents\\Datasets\\c_elegans\\train\\cnd1threeL1_1229063.h5.\n",
      "Data has been successfully converted to C:\\Users\\Chris\\Documents\\Datasets\\c_elegans\\train\\eft3RW10035L1_0125071.h5.\n",
      "Data has been successfully converted to C:\\Users\\Chris\\Documents\\Datasets\\c_elegans\\train\\eft3RW10035L1_0125072.h5.\n",
      "Data has been successfully converted to C:\\Users\\Chris\\Documents\\Datasets\\c_elegans\\train\\eft3RW10035L1_0125073.h5.\n",
      "Data has been successfully converted to C:\\Users\\Chris\\Documents\\Datasets\\c_elegans\\train\\egl5L1_0606074.h5.\n",
      "Data has been successfully converted to C:\\Users\\Chris\\Documents\\Datasets\\c_elegans\\train\\elt3L1_0503071.h5.\n",
      "Data has been successfully converted to C:\\Users\\Chris\\Documents\\Datasets\\c_elegans\\train\\elt3L1_0503072.h5.\n",
      "Data has been successfully converted to C:\\Users\\Chris\\Documents\\Datasets\\c_elegans\\train\\elt3L1_0504073.h5.\n",
      "Data has been successfully converted to C:\\Users\\Chris\\Documents\\Datasets\\c_elegans\\train\\hlh1fourL1_0417071.h5.\n",
      "Data has been successfully converted to C:\\Users\\Chris\\Documents\\Datasets\\c_elegans\\train\\hlh1fourL1_0417075.h5.\n",
      "Data has been successfully converted to C:\\Users\\Chris\\Documents\\Datasets\\c_elegans\\train\\hlh1fourL1_0417076.h5.\n",
      "Data has been successfully converted to C:\\Users\\Chris\\Documents\\Datasets\\c_elegans\\train\\hlh1fourL1_0417077.h5.\n",
      "Data has been successfully converted to C:\\Users\\Chris\\Documents\\Datasets\\c_elegans\\train\\hlh1fourL1_0417078.h5.\n",
      "Data has been successfully converted to C:\\Users\\Chris\\Documents\\Datasets\\c_elegans\\train\\mir61L1_1228061.h5.\n",
      "Data has been successfully converted to C:\\Users\\Chris\\Documents\\Datasets\\c_elegans\\train\\mir61L1_1228062.h5.\n",
      "Data has been successfully converted to C:\\Users\\Chris\\Documents\\Datasets\\c_elegans\\train\\mir61L1_1229062.h5.\n",
      "Data has been successfully converted to C:\\Users\\Chris\\Documents\\Datasets\\c_elegans\\train\\pha4A7L1_1213061.h5.\n",
      "Data has been successfully converted to C:\\Users\\Chris\\Documents\\Datasets\\c_elegans\\train\\pha4A7L1_1213062.h5.\n",
      "Data has been successfully converted to C:\\Users\\Chris\\Documents\\Datasets\\c_elegans\\train\\pha4A7L1_1213064.h5.\n",
      "Data has been successfully converted to C:\\Users\\Chris\\Documents\\Datasets\\c_elegans\\train\\pha4B2L1_0125072.h5.\n",
      "Data has been successfully converted to C:\\Users\\Chris\\Documents\\Datasets\\c_elegans\\train\\pha4I2L_0408071.h5.\n",
      "Data has been successfully converted to C:\\Users\\Chris\\Documents\\Datasets\\c_elegans\\train\\pha4I2L_0408072.h5.\n",
      "Data has been successfully converted to C:\\Users\\Chris\\Documents\\Datasets\\c_elegans\\val\\pha4I2L_0408073.h5.\n",
      "Data has been successfully converted to C:\\Users\\Chris\\Documents\\Datasets\\c_elegans\\val\\unc54L1_0123071.h5.\n",
      "Data has been successfully converted to C:\\Users\\Chris\\Documents\\Datasets\\c_elegans\\val\\unc54L1_0123072.h5.\n"
     ]
    }
   ],
   "source": [
    "# Replace these with your actual file paths\n",
    "DATA_ROOT = r\"C:\\Users\\Chris\\Documents\\Datasets\\c_elegans\"\n",
    "RAW_FOLDER = \"imagesAsMhdRawAligned\"\n",
    "LABEL_FOLDER = \"groundTruthLabelsAligned\"\n",
    "TRAIN_FOLDER = \"train\"\n",
    "VAL_FOLDER = \"val\"\n",
    "train_count = 27\n",
    "\n",
    "raw_path = os.path.join(DATA_ROOT, RAW_FOLDER)\n",
    "label_path = os.path.join(DATA_ROOT, LABEL_FOLDER)\n",
    "train_path = os.path.join(DATA_ROOT, TRAIN_FOLDER)\n",
    "val_path = os.path.join(DATA_ROOT, VAL_FOLDER)\n",
    "\n",
    "file_count = 0\n",
    "# Loop through all files in raw_source\n",
    "for label_file_name in os.listdir(label_path):\n",
    "    if label_file_name.endswith(\".mhd\"):\n",
    "        worm_name = label_file_name.split(\"-\")[0]\n",
    "        raw_file_name = f\"{worm_name}.mhd\"\n",
    "\n",
    "        raw_data, _, _ = load_itk(os.path.join(raw_path, raw_file_name))\n",
    "        label_data, _, _ = load_itk(os.path.join(label_path, label_file_name))\n",
    "\n",
    "        output_path = train_path if file_count < train_count else val_path\n",
    "        output_file = os.path.join(output_path, f\"{worm_name}.h5\")\n",
    "        # Create an HDF5 file and save the NumPy array\n",
    "        with h5py.File(output_file, 'w') as hf:\n",
    "            hf.create_dataset('raw', data=raw_data)\n",
    "            hf.create_dataset('label', data=label_data)\n",
    "        file_count += 1\n",
    "        print(f'Data has been successfully converted to {output_file}.')\n",
    "\n"
   ]
  }
 ],
 "metadata": {
  "kernelspec": {
   "display_name": "pytorch3dunet",
   "language": "python",
   "name": "python3"
  },
  "language_info": {
   "codemirror_mode": {
    "name": "ipython",
    "version": 3
   },
   "file_extension": ".py",
   "mimetype": "text/x-python",
   "name": "python",
   "nbconvert_exporter": "python",
   "pygments_lexer": "ipython3",
   "version": "3.9.18"
  }
 },
 "nbformat": 4,
 "nbformat_minor": 2
}
